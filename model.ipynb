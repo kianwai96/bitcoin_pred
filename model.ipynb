{
 "cells": [
  {
   "cell_type": "code",
   "execution_count": 5,
   "metadata": {},
   "outputs": [],
   "source": [
    "import streamlit as st\n",
    "import numpy as np\n",
    "import matplotlib.pyplot as plt\n",
    "import pandas as pd\n",
    "import joblib\n",
    "from sklearn.linear_model import LinearRegression\n"
   ]
  },
  {
   "cell_type": "code",
   "execution_count": 2,
   "metadata": {},
   "outputs": [
    {
     "name": "stdout",
     "output_type": "stream",
     "text": [
      "              datetime     Close  Close_1hr  Close_2hr  \\\n",
      "0  2021-01-01 02:00:00  0.224018   0.228255   0.220092   \n",
      "1  2021-01-01 03:00:00  0.225666   0.224018   0.228255   \n",
      "2  2021-01-01 04:00:00  0.224523   0.225666   0.224018   \n",
      "3  2021-01-01 05:00:00  0.223868   0.224523   0.225666   \n",
      "4  2021-01-01 06:00:00  0.223619   0.223868   0.224523   \n",
      "\n",
      "   sentiment_polarization  sentiment_lag_1hr  sentiment_lag_2hr  Volume USDT  \\\n",
      "0                0.561453           0.534654           0.693206     0.046117   \n",
      "1                0.585239           0.561453           0.534654     0.028235   \n",
      "2                0.670205           0.585239           0.561453     0.039364   \n",
      "3                0.732950           0.670205           0.585239     0.028303   \n",
      "4                0.562987           0.732950           0.670205     0.027367   \n",
      "\n",
      "   trade_count_2hr  Volume USDT_2hr  Volume BTC_2hr  trade_count_1hr  \\\n",
      "0         0.073059         0.073059        0.073059         0.129999   \n",
      "1         0.129999         0.129999        0.129999         0.072129   \n",
      "2         0.072129         0.072129        0.072129         0.053190   \n",
      "3         0.053190         0.053190        0.053190         0.069336   \n",
      "4         0.069336         0.069336        0.069336         0.052302   \n",
      "\n",
      "   Volume USDT_1hr  Volume BTC_1hr  trade_count  Volume BTC  \n",
      "0         0.129999        0.129999     0.072129    0.053893  \n",
      "1         0.072129        0.072129     0.053190    0.033032  \n",
      "2         0.053190        0.053190     0.069336    0.046068  \n",
      "3         0.069336        0.069336     0.052302    0.033227  \n",
      "4         0.052302        0.052302     0.058058    0.032114  \n"
     ]
    }
   ],
   "source": [
    "dataset = pd.read_csv('C:\\\\Users\\\\user\\\\OneDrive\\\\Desktop\\\\Research Project\\\\Codes\\\\final_data_LSTM.csv')\n",
    "print(dataset.head())\n",
    "dataset.set_index('datetime', inplace=True)"
   ]
  },
  {
   "cell_type": "code",
   "execution_count": 3,
   "metadata": {},
   "outputs": [],
   "source": [
    "X_test = dataset.drop('Close', axis=1)\n",
    "\n",
    "y_test = dataset[['Close']]"
   ]
  },
  {
   "cell_type": "code",
   "execution_count": 6,
   "metadata": {},
   "outputs": [],
   "source": [
    "joblib_file = \"model.pkl\"\n",
    "loaded_model = joblib.load(joblib_file)"
   ]
  },
  {
   "cell_type": "code",
   "execution_count": 7,
   "metadata": {},
   "outputs": [],
   "source": [
    "predictions = loaded_model.predict(X_test)"
   ]
  },
  {
   "cell_type": "code",
   "execution_count": 10,
   "metadata": {},
   "outputs": [
    {
     "name": "stderr",
     "output_type": "stream",
     "text": [
      "2024-06-23 19:12:50.801 \n",
      "  \u001b[33m\u001b[1mWarning:\u001b[0m to view this Streamlit app on a browser, run it with the following\n",
      "  command:\n",
      "\n",
      "    streamlit run c:\\Users\\user\\AppData\\Local\\Programs\\Python\\Python39\\lib\\site-packages\\ipykernel_launcher.py [ARGUMENTS]\n"
     ]
    },
    {
     "data": {
      "text/plain": [
       "DeltaGenerator()"
      ]
     },
     "execution_count": 10,
     "metadata": {},
     "output_type": "execute_result"
    }
   ],
   "source": [
    "min_price = 17809\n",
    "max_price = 68633.69\n",
    "\n",
    "# Reverse the normalization\n",
    "original_predictions = predictions * (max_price - min_price) + min_price\n",
    "original_actual = y_test * (max_price - min_price) + min_price\n",
    "\n",
    "# Convert DataFrame to NumPy array and ensure it's 1D\n",
    "original_actual = original_actual.to_numpy().flatten()\n",
    "\n",
    "# Shift the actual values backward\n",
    "original_actual_shifted = np.concatenate((original_actual[1:], [np.nan]))\n",
    "\n",
    "# Streamlit app\n",
    "st.title('Predicted Price vs Actual Shifted Price')\n",
    "\n",
    "# Plotting\n",
    "fig, ax = plt.subplots(figsize=(10, 6))\n",
    "ax.plot(original_predictions, label='Predictions', color='blue')\n",
    "ax.plot(original_actual_shifted, label='Actual (shifted)', color='green')\n",
    "ax.set_title('Predictions vs Actual (shifted)')\n",
    "ax.set_xlabel('Time Step')\n",
    "ax.set_ylabel('Value')\n",
    "ax.legend()\n",
    "ax.grid(True)\n",
    "\n",
    "# Display the plot in Streamlit\n",
    "st.pyplot(fig)"
   ]
  }
 ],
 "metadata": {
  "kernelspec": {
   "display_name": "Python 3",
   "language": "python",
   "name": "python3"
  },
  "language_info": {
   "codemirror_mode": {
    "name": "ipython",
    "version": 3
   },
   "file_extension": ".py",
   "mimetype": "text/x-python",
   "name": "python",
   "nbconvert_exporter": "python",
   "pygments_lexer": "ipython3",
   "version": "3.9.6"
  }
 },
 "nbformat": 4,
 "nbformat_minor": 2
}
